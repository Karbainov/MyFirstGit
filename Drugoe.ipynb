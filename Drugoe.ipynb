{
 "cells": [
  {
   "cell_type": "raw",
   "id": "7ede729d-4a94-46bb-a1d5-386d6bccd7c5",
   "metadata": {},
   "source": [
    "gfgwegwergergtr\n",
    "ergwergeregwerg\n"
   ]
  },
  {
   "cell_type": "code",
   "execution_count": 1,
   "id": "cb1bbde0-6648-4630-88a8-c859f5a3ba0e",
   "metadata": {},
   "outputs": [
    {
     "ename": "NameError",
     "evalue": "name 'erwgergwergerw' is not defined",
     "output_type": "error",
     "traceback": [
      "\u001b[1;31m---------------------------------------------------------------------------\u001b[0m",
      "\u001b[1;31mNameError\u001b[0m                                 Traceback (most recent call last)",
      "Cell \u001b[1;32mIn[1], line 1\u001b[0m\n\u001b[1;32m----> 1\u001b[0m \u001b[43merwgergwergerw\u001b[49m\n",
      "\u001b[1;31mNameError\u001b[0m: name 'erwgergwergerw' is not defined"
     ]
    }
   ],
   "source": [
    "erwgergwergerw"
   ]
  },
  {
   "cell_type": "code",
   "execution_count": null,
   "id": "77718ad7-0ab6-4994-a289-92bb110fd098",
   "metadata": {},
   "outputs": [],
   "source": [
    "gergwegw"
   ]
  }
 ],
 "metadata": {
  "kernelspec": {
   "display_name": "Python 3 (ipykernel)",
   "language": "python",
   "name": "python3"
  },
  "language_info": {
   "codemirror_mode": {
    "name": "ipython",
    "version": 3
   },
   "file_extension": ".py",
   "mimetype": "text/x-python",
   "name": "python",
   "nbconvert_exporter": "python",
   "pygments_lexer": "ipython3",
   "version": "3.12.0"
  }
 },
 "nbformat": 4,
 "nbformat_minor": 5
}
