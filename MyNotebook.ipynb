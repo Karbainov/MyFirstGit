{
 "cells": [
  {
   "cell_type": "code",
   "execution_count": 1,
   "id": "b38f35ed-c751-4688-979e-a22537fd82e2",
   "metadata": {},
   "outputs": [],
   "source": [
    "a=1\n",
    "b=5"
   ]
  },
  {
   "cell_type": "code",
   "execution_count": 2,
   "id": "ec6fbdea-dd75-436e-8e9f-ba1c1f9008af",
   "metadata": {},
   "outputs": [],
   "source": [
    "c=a+b"
   ]
  },
  {
   "cell_type": "code",
   "execution_count": 3,
   "id": "69ede539-6948-4438-9b79-a69fec906768",
   "metadata": {},
   "outputs": [
    {
     "data": {
      "text/plain": [
       "6"
      ]
     },
     "execution_count": 3,
     "metadata": {},
     "output_type": "execute_result"
    }
   ],
   "source": [
    "c"
   ]
  },
  {
   "cell_type": "code",
   "execution_count": null,
   "id": "d981167e-acd3-4f2e-8b22-911a5f1e58a7",
   "metadata": {},
   "outputs": [],
   "source": []
  }
 ],
 "metadata": {
  "kernelspec": {
   "display_name": "Python 3 (ipykernel)",
   "language": "python",
   "name": "python3"
  },
  "language_info": {
   "codemirror_mode": {
    "name": "ipython",
    "version": 3
   },
   "file_extension": ".py",
   "mimetype": "text/x-python",
   "name": "python",
   "nbconvert_exporter": "python",
   "pygments_lexer": "ipython3",
   "version": "3.12.0"
  }
 },
 "nbformat": 4,
 "nbformat_minor": 5
}
